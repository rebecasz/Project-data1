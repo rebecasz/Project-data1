{
 "cells": [
  {
   "cell_type": "markdown",
   "id": "44f0fb36",
   "metadata": {},
   "source": [
    "# Customer Segmentation and Sales Analysis for E-commerce Platform"
   ]
  },
  {
   "cell_type": "markdown",
   "id": "1d002c37",
   "metadata": {},
   "source": [
    "In this project, you will analyze customer behavior and sales data for an e-commerce platform to gain insights into customer segmentation, purchasing patterns, and revenue trends. "
   ]
  },
  {
   "cell_type": "code",
   "execution_count": 21,
   "id": "c08861ff",
   "metadata": {},
   "outputs": [],
   "source": [
    "import pandas as pd\n",
    "import matplotlib.pyplot as plt"
   ]
  },
  {
   "cell_type": "code",
   "execution_count": 8,
   "id": "2797ee39",
   "metadata": {},
   "outputs": [
    {
     "name": "stdout",
     "output_type": "stream",
     "text": [
      "    CustomerID        Date  ProductID          ProductName       Category  Price  Quantity  TotalPrice  Country\n",
      "0         1001  2023-01-01        101               Laptop    Electronics    800         1         800      USA\n",
      "1         1002  2023-01-01        102              T-shirt       Clothing     20         2          40      USA\n",
      "2         1003  2023-01-02        103           Smartphone    Electronics    600         1         600       UK\n",
      "3         1004  2023-01-02        104           Headphones    Electronics     50         1          50  Germany\n",
      "4         1005  2023-01-03        105         Coffee Table     Home Decor    200         1         200   France\n",
      "5         1006  2023-01-03        106                Jeans       Clothing     50         1          50      USA\n",
      "6         1007  2023-01-04        107           Smartwatch    Electronics    300         1         300   Canada\n",
      "7         1008  2023-01-04        108                Dress       Clothing     40         1          40      USA\n",
      "8         1009  2023-01-05        109               Camera    Electronics    400         1         400       UK\n",
      "9         1010  2023-01-05        110            Desk Lamp     Home Decor     30         1          30   France\n",
      "10        1011  2023-01-06        111             Sneakers       Clothing     80         1          80      USA\n",
      "11        1012  2023-01-06        112               Tablet    Electronics    250         1         250  Germany\n",
      "12        1013  2023-01-07        113                 Sofa     Home Decor    700         1         700   Canada\n",
      "13        1014  2023-01-07        114               Jacket       Clothing     60         1          60      USA\n",
      "14        1015  2023-01-08        115                Watch    Accessories    150         1         150       UK\n",
      "15        1016  2023-01-08        116            Bed Frame      Furniture    800         1         800   France\n",
      "16        1017  2023-01-09        117             Backpack    Accessories     50         1          50  Germany\n",
      "17        1018  2023-01-09        118            Bookshelf      Furniture    120         1         120      USA\n",
      "18        1019  2023-01-10        119    Bluetooth Speaker    Electronics    100         1         100   Canada\n",
      "19        1020  2023-01-10        120               Hoodie       Clothing     40         1          40       UK\n",
      "20        1021  2023-01-11        121       Gaming Console    Electronics    400         1         400      USA\n",
      "21        1022  2023-01-11        122           Sunglasses    Accessories     80         1          80  Germany\n",
      "22        1023  2023-01-12        123         Office Chair      Furniture    150         1         150       UK\n",
      "23        1024  2023-01-12        124        Running Shoes       Clothing     90         1          90   France\n",
      "24        1025  2023-01-13        125       Wireless Mouse    Electronics     20         1          20   Canada\n",
      "25        1026  2023-01-13        126                Scarf    Accessories     25         1          25      USA\n",
      "26        1027  2023-01-14        127  Home Theater System    Electronics    600         1         600  Germany\n",
      "27        1028  2023-01-14        128             Yoga Mat         Sports     35         1          35       UK\n",
      "28        1029  2023-01-15        129         Gaming Mouse    Electronics     50         1          50   France\n",
      "29        1030  2023-01-15        130    Kitchen Knife Set    Kitchenware     60         1          60      USA\n",
      "30        1031  2023-01-16        131       Speaker System    Electronics    120         1         120   Canada\n",
      "31        1032  2023-01-16        132                Watch    Accessories    200         1         200       UK\n",
      "32        1033  2023-01-17        133       Running Shorts       Clothing     30         1          30  Germany\n",
      "33        1034  2023-01-17        134              Blender    Kitchenware     80         1          80      USA\n",
      "34        1035  2023-01-18        135  Wireless Headphones    Electronics     70         1          70   Canada\n",
      "35        1036  2023-01-18        136        Candle Holder     Home Decor     40         1          40       UK\n",
      "36        1037  2023-01-19        137            Desk Lamp     Home Decor    150         1         150      USA\n",
      "37        1038  2023-01-19        138    Smart Home Device    Electronics     25         1          25  Germany\n",
      "38        1039  2023-01-20        139         Cookware Set    Kitchenware    150         1         150  Germany\n",
      "39        1040  2023-01-20        140         Laptop Stand    Electronics     25         1          25       UK\n",
      "40        1041  2023-01-21        141     Wireless Charger    Accessories     30         1          30   France\n",
      "41        1042  2023-01-21        142             Tote Bag    Accessories     45         1          45   Canada\n",
      "42        1043  2023-01-22        143       Vacuum Cleaner           Home    200         1         200      USA\n",
      "43        1044  2023-01-22        144         Water Bottle    Accessories     15         1          15       UK\n",
      "44        1045  2023-01-23        145       Desk Organizer         Office     20         1          20  Germany\n",
      "45        1046  2023-01-23        146           Hair Dryer  Personal Care     40         1          40   France\n",
      "46        1047  2023-01-24        147      Gaming Keyboard    Electronics     80         1          80   Canada\n",
      "47        1048  2023-01-24        148           Sunglasses    Accessories     70         1          70      USA\n",
      "48        1049  2023-01-25        149     Home Decorations     Home Decor     50         1          50       UK\n",
      "49        1050  2023-01-25        150     Portable Speaker    Electronics    100         1         100   France\n",
      "50        1051  2023-01-24        148           Sunglasses    Accessories     70         1          70      NaN\n",
      "51        1052  2023-01-25        149     Home Decorations     Home Decor     50         1          50      NaN\n",
      "52        1053  2023-01-25        150     Portable Speaker    Electronics    100         1         100      NaN\n"
     ]
    }
   ],
   "source": [
    "# Load the dataset\n",
    "\n",
    "df = pd.read_csv('ecommerce_sales_data.csv')\n",
    "\n",
    "print(df.to_string()) "
   ]
  },
  {
   "cell_type": "code",
   "execution_count": 9,
   "id": "29f7eda4",
   "metadata": {},
   "outputs": [
    {
     "name": "stdout",
     "output_type": "stream",
     "text": [
      "   CustomerID        Date  ProductID   ProductName     Category  Price  \\\n",
      "0        1001  2023-01-01        101        Laptop  Electronics    800   \n",
      "1        1002  2023-01-01        102       T-shirt     Clothing     20   \n",
      "2        1003  2023-01-02        103    Smartphone  Electronics    600   \n",
      "3        1004  2023-01-02        104    Headphones  Electronics     50   \n",
      "4        1005  2023-01-03        105  Coffee Table   Home Decor    200   \n",
      "\n",
      "   Quantity  TotalPrice  Country  \n",
      "0         1         800      USA  \n",
      "1         2          40      USA  \n",
      "2         1         600       UK  \n",
      "3         1          50  Germany  \n",
      "4         1         200   France  \n",
      "<class 'pandas.core.frame.DataFrame'>\n",
      "RangeIndex: 53 entries, 0 to 52\n",
      "Data columns (total 9 columns):\n",
      " #   Column       Non-Null Count  Dtype \n",
      "---  ------       --------------  ----- \n",
      " 0   CustomerID   53 non-null     int64 \n",
      " 1   Date         53 non-null     object\n",
      " 2   ProductID    53 non-null     int64 \n",
      " 3   ProductName  53 non-null     object\n",
      " 4   Category     53 non-null     object\n",
      " 5   Price        53 non-null     int64 \n",
      " 6   Quantity     53 non-null     int64 \n",
      " 7   TotalPrice   53 non-null     int64 \n",
      " 8   Country      50 non-null     object\n",
      "dtypes: int64(5), object(4)\n",
      "memory usage: 3.9+ KB\n",
      "None\n"
     ]
    }
   ],
   "source": [
    "# Inspect the dataset\n",
    "\n",
    "print(df.head()) \n",
    "print(df.info())"
   ]
  },
  {
   "cell_type": "code",
   "execution_count": 10,
   "id": "7ebc23d9",
   "metadata": {},
   "outputs": [
    {
     "name": "stdout",
     "output_type": "stream",
     "text": [
      "CustomerID     0\n",
      "Date           0\n",
      "ProductID      0\n",
      "ProductName    0\n",
      "Category       0\n",
      "Price          0\n",
      "Quantity       0\n",
      "TotalPrice     0\n",
      "Country        3\n",
      "dtype: int64\n"
     ]
    }
   ],
   "source": [
    "# Check for missing values\n",
    "print(df.isnull().sum())"
   ]
  },
  {
   "cell_type": "code",
   "execution_count": 11,
   "id": "49829e33",
   "metadata": {},
   "outputs": [],
   "source": [
    "# fill missing values in the 'Country' column with the most frequent country\n",
    "\n",
    "most_frequent_country = df['Country'].mode()[0]\n",
    "df['Country'].fillna(most_frequent_country, inplace=True)"
   ]
  },
  {
   "cell_type": "code",
   "execution_count": 12,
   "id": "dc1b0511",
   "metadata": {},
   "outputs": [
    {
     "name": "stdout",
     "output_type": "stream",
     "text": [
      "    CustomerID        Date  ProductID          ProductName       Category  Price  Quantity  TotalPrice  Country\n",
      "0         1001  2023-01-01        101               Laptop    Electronics    800         1         800      USA\n",
      "1         1002  2023-01-01        102              T-shirt       Clothing     20         2          40      USA\n",
      "2         1003  2023-01-02        103           Smartphone    Electronics    600         1         600       UK\n",
      "3         1004  2023-01-02        104           Headphones    Electronics     50         1          50  Germany\n",
      "4         1005  2023-01-03        105         Coffee Table     Home Decor    200         1         200   France\n",
      "5         1006  2023-01-03        106                Jeans       Clothing     50         1          50      USA\n",
      "6         1007  2023-01-04        107           Smartwatch    Electronics    300         1         300   Canada\n",
      "7         1008  2023-01-04        108                Dress       Clothing     40         1          40      USA\n",
      "8         1009  2023-01-05        109               Camera    Electronics    400         1         400       UK\n",
      "9         1010  2023-01-05        110            Desk Lamp     Home Decor     30         1          30   France\n",
      "10        1011  2023-01-06        111             Sneakers       Clothing     80         1          80      USA\n",
      "11        1012  2023-01-06        112               Tablet    Electronics    250         1         250  Germany\n",
      "12        1013  2023-01-07        113                 Sofa     Home Decor    700         1         700   Canada\n",
      "13        1014  2023-01-07        114               Jacket       Clothing     60         1          60      USA\n",
      "14        1015  2023-01-08        115                Watch    Accessories    150         1         150       UK\n",
      "15        1016  2023-01-08        116            Bed Frame      Furniture    800         1         800   France\n",
      "16        1017  2023-01-09        117             Backpack    Accessories     50         1          50  Germany\n",
      "17        1018  2023-01-09        118            Bookshelf      Furniture    120         1         120      USA\n",
      "18        1019  2023-01-10        119    Bluetooth Speaker    Electronics    100         1         100   Canada\n",
      "19        1020  2023-01-10        120               Hoodie       Clothing     40         1          40       UK\n",
      "20        1021  2023-01-11        121       Gaming Console    Electronics    400         1         400      USA\n",
      "21        1022  2023-01-11        122           Sunglasses    Accessories     80         1          80  Germany\n",
      "22        1023  2023-01-12        123         Office Chair      Furniture    150         1         150       UK\n",
      "23        1024  2023-01-12        124        Running Shoes       Clothing     90         1          90   France\n",
      "24        1025  2023-01-13        125       Wireless Mouse    Electronics     20         1          20   Canada\n",
      "25        1026  2023-01-13        126                Scarf    Accessories     25         1          25      USA\n",
      "26        1027  2023-01-14        127  Home Theater System    Electronics    600         1         600  Germany\n",
      "27        1028  2023-01-14        128             Yoga Mat         Sports     35         1          35       UK\n",
      "28        1029  2023-01-15        129         Gaming Mouse    Electronics     50         1          50   France\n",
      "29        1030  2023-01-15        130    Kitchen Knife Set    Kitchenware     60         1          60      USA\n",
      "30        1031  2023-01-16        131       Speaker System    Electronics    120         1         120   Canada\n",
      "31        1032  2023-01-16        132                Watch    Accessories    200         1         200       UK\n",
      "32        1033  2023-01-17        133       Running Shorts       Clothing     30         1          30  Germany\n",
      "33        1034  2023-01-17        134              Blender    Kitchenware     80         1          80      USA\n",
      "34        1035  2023-01-18        135  Wireless Headphones    Electronics     70         1          70   Canada\n",
      "35        1036  2023-01-18        136        Candle Holder     Home Decor     40         1          40       UK\n",
      "36        1037  2023-01-19        137            Desk Lamp     Home Decor    150         1         150      USA\n",
      "37        1038  2023-01-19        138    Smart Home Device    Electronics     25         1          25  Germany\n",
      "38        1039  2023-01-20        139         Cookware Set    Kitchenware    150         1         150  Germany\n",
      "39        1040  2023-01-20        140         Laptop Stand    Electronics     25         1          25       UK\n",
      "40        1041  2023-01-21        141     Wireless Charger    Accessories     30         1          30   France\n",
      "41        1042  2023-01-21        142             Tote Bag    Accessories     45         1          45   Canada\n",
      "42        1043  2023-01-22        143       Vacuum Cleaner           Home    200         1         200      USA\n",
      "43        1044  2023-01-22        144         Water Bottle    Accessories     15         1          15       UK\n",
      "44        1045  2023-01-23        145       Desk Organizer         Office     20         1          20  Germany\n",
      "45        1046  2023-01-23        146           Hair Dryer  Personal Care     40         1          40   France\n",
      "46        1047  2023-01-24        147      Gaming Keyboard    Electronics     80         1          80   Canada\n",
      "47        1048  2023-01-24        148           Sunglasses    Accessories     70         1          70      USA\n",
      "48        1049  2023-01-25        149     Home Decorations     Home Decor     50         1          50       UK\n",
      "49        1050  2023-01-25        150     Portable Speaker    Electronics    100         1         100   France\n",
      "50        1051  2023-01-24        148           Sunglasses    Accessories     70         1          70      USA\n",
      "51        1052  2023-01-25        149     Home Decorations     Home Decor     50         1          50      USA\n",
      "52        1053  2023-01-25        150     Portable Speaker    Electronics    100         1         100      USA\n"
     ]
    }
   ],
   "source": [
    "print(df.to_string()) "
   ]
  },
  {
   "cell_type": "markdown",
   "id": "3385d1fc",
   "metadata": {},
   "source": [
    "Calculate the distribution of customers by country."
   ]
  },
  {
   "cell_type": "code",
   "execution_count": 19,
   "id": "f9e92076",
   "metadata": {},
   "outputs": [
    {
     "name": "stdout",
     "output_type": "stream",
     "text": [
      "USA        17\n",
      "UK         11\n",
      "Germany     9\n",
      "France      8\n",
      "Canada      8\n",
      "Name: Country, dtype: int64\n"
     ]
    }
   ],
   "source": [
    "print(df['Country'].value_counts())"
   ]
  },
  {
   "cell_type": "code",
   "execution_count": 24,
   "id": "4fa73142",
   "metadata": {},
   "outputs": [
    {
     "data": {
      "image/png": "[encoded data removed]",
      "text/plain": [
       "<Figure size 432x288 with 1 Axes>"
      ]
     },
     "metadata": {
      "needs_background": "light"
     },
     "output_type": "display_data"
    }
   ],
   "source": [
    "country_counts = df['Country'].value_counts()\n",
    "\n",
    "plt.bar(country_counts.index, country_counts.values)\n",
    "plt.title('Number of Customers by Country')\n",
    "plt.xlabel('Country')\n",
    "plt.ylabel('Number of Customers')\n",
    "\n",
    "plt.show()"
   ]
  },
  {
   "cell_type": "markdown",
   "id": "3a01c223",
   "metadata": {},
   "source": [
    "Calculate the total number of purchases."
   ]
  },
  {
   "cell_type": "code",
   "execution_count": 26,
   "id": "197d7f1b",
   "metadata": {},
   "outputs": [
    {
     "name": "stdout",
     "output_type": "stream",
     "text": [
      "53\n",
      "53\n"
     ]
    }
   ],
   "source": [
    "print(df['ProductName'].count())\n",
    "print(len(df))"
   ]
  },
  {
   "cell_type": "markdown",
   "id": "679e25e5",
   "metadata": {},
   "source": [
    "Determine the most purchased product."
   ]
  },
  {
   "cell_type": "code",
   "execution_count": 28,
   "id": "b99516b2",
   "metadata": {},
   "outputs": [
    {
     "name": "stdout",
     "output_type": "stream",
     "text": [
      "Sunglasses\n"
     ]
    }
   ],
   "source": [
    "print(df['ProductName'].mode()[0])"
   ]
  },
  {
   "cell_type": "markdown",
   "id": "b35d39ab",
   "metadata": {},
   "source": [
    "Determine the most purchased products (top 5)"
   ]
  },
  {
   "cell_type": "code",
   "execution_count": 30,
   "id": "c186f9e9",
   "metadata": {},
   "outputs": [
    {
     "name": "stdout",
     "output_type": "stream",
     "text": [
      "Sunglasses          3\n",
      "Portable Speaker    2\n",
      "Watch               2\n",
      "Home Decorations    2\n",
      "Desk Lamp           2\n",
      "Name: ProductName, dtype: int64\n"
     ]
    }
   ],
   "source": [
    "print(df['ProductName'].value_counts().head(5))"
   ]
  },
  {
   "cell_type": "markdown",
   "id": "9a1555c2",
   "metadata": {},
   "source": [
    "Analyze the distribution of purchases by category."
   ]
  },
  {
   "cell_type": "code",
   "execution_count": 33,
   "id": "22f11529",
   "metadata": {},
   "outputs": [
    {
     "name": "stdout",
     "output_type": "stream",
     "text": [
      "Electronics      18\n",
      "Accessories      10\n",
      "Clothing          8\n",
      "Home Decor        7\n",
      "Furniture         3\n",
      "Kitchenware       3\n",
      "Sports            1\n",
      "Home              1\n",
      "Office            1\n",
      "Personal Care     1\n",
      "Name: Category, dtype: int64\n"
     ]
    }
   ],
   "source": [
    "print(df['Category'].value_counts())"
   ]
  },
  {
   "cell_type": "code",
   "execution_count": 37,
   "id": "de600aa2",
   "metadata": {},
   "outputs": [
    {
     "data": {
      "image/png": "[encoded data removed]",
      "text/plain": [
       "<Figure size 936x432 with 1 Axes>"
      ]
     },
     "metadata": {
      "needs_background": "light"
     },
     "output_type": "display_data"
    }
   ],
   "source": [
    "category_counts = df['Category'].value_counts()\n",
    "\n",
    "plt.figure(figsize=(13, 6))\n",
    "plt.bar(category_counts.index, category_counts.values, color= \"pink\")\n",
    "plt.title('Number of purchases by category')\n",
    "plt.xlabel('Cathegory')\n",
    "plt.ylabel('Number of purchases')\n",
    "\n",
    "plt.show()"
   ]
  },
  {
   "cell_type": "markdown",
   "id": "901a901c",
   "metadata": {},
   "source": [
    "Explore seasonal trends in purchases (e.g., monthly or quarterly sales)."
   ]
  },
  {
   "cell_type": "code",
   "execution_count": 40,
   "id": "f3d69d96",
   "metadata": {},
   "outputs": [
    {
     "name": "stdout",
     "output_type": "stream",
     "text": [
      "Monthly Sales Trend: Date\n",
      "2023-01    8130\n",
      "Freq: M, Name: TotalPrice, dtype: int64\n",
      "Quarterly Sales Trend: Date\n",
      "2023Q1    8130\n",
      "Freq: Q-DEC, Name: TotalPrice, dtype: int64\n"
     ]
    }
   ],
   "source": [
    "df['Date'] = pd.to_datetime(df['Date'])\n",
    "\n",
    "\n",
    "df['Month'] = df['Date'].dt.month\n",
    "df['Quarter'] = df['Date'].dt.quarter\n",
    "\n",
    "\n",
    "monthly_sales = df.groupby(df['Date'].dt.to_period('M'))['TotalPrice'].sum()\n",
    "\n",
    "quarterly_sales = df.groupby(df['Date'].dt.to_period('Q'))['TotalPrice'].sum()\n",
    "\n",
    "print(\"Monthly Sales Trend:\", monthly_sales)\n",
    "\n",
    "print(\"Quarterly Sales Trend:\", quarterly_sales)"
   ]
  },
  {
   "cell_type": "markdown",
   "id": "3435d09d",
   "metadata": {},
   "source": [
    "Calculate total revenue generated."
   ]
  },
  {
   "cell_type": "code",
   "execution_count": 41,
   "id": "ec4ffa14",
   "metadata": {},
   "outputs": [
    {
     "name": "stdout",
     "output_type": "stream",
     "text": [
      "8130\n"
     ]
    }
   ],
   "source": [
    "print(df['TotalPrice'].sum())"
   ]
  },
  {
   "cell_type": "markdown",
   "id": "3219b4df",
   "metadata": {},
   "source": [
    "Analyze revenue distribution by country."
   ]
  },
  {
   "cell_type": "code",
   "execution_count": 43,
   "id": "ec54e492",
   "metadata": {},
   "outputs": [
    {
     "name": "stdout",
     "output_type": "stream",
     "text": [
      "Country\n",
      "Canada     1435\n",
      "France     1340\n",
      "Germany    1255\n",
      "UK         1705\n",
      "USA        2395\n",
      "Name: TotalPrice, dtype: int64\n"
     ]
    }
   ],
   "source": [
    "print(df.groupby(df['Country'])['TotalPrice'].sum())"
   ]
  },
  {
   "cell_type": "markdown",
   "id": "8d5c11ee",
   "metadata": {},
   "source": [
    "Determine the average purchase value."
   ]
  },
  {
   "cell_type": "code",
   "execution_count": 44,
   "id": "93027de7",
   "metadata": {},
   "outputs": [
    {
     "name": "stdout",
     "output_type": "stream",
     "text": [
      "153.39622641509433\n"
     ]
    }
   ],
   "source": [
    "print(df['TotalPrice'].mean())"
   ]
  },
  {
   "cell_type": "markdown",
   "id": "ba4418c0",
   "metadata": {},
   "source": [
    "Calculate the average number of items per purchase."
   ]
  },
  {
   "cell_type": "code",
   "execution_count": 45,
   "id": "10e3f3f2",
   "metadata": {},
   "outputs": [
    {
     "name": "stdout",
     "output_type": "stream",
     "text": [
      "1.0188679245283019\n"
     ]
    }
   ],
   "source": [
    "print(df['Quantity'].mean())"
   ]
  },
  {
   "cell_type": "markdown",
   "id": "1bb85c67",
   "metadata": {},
   "source": [
    "Aggregate sales data at the product level to calculate product performance metrics.\n",
    "Identify best-selling products based on sales quantity or revenue.\n",
    "Analyze product categories and their contribution to overall sales.\n",
    "Explore cross-selling patterns by identifying frequently co-purchased products.\n",
    "Visualize product trends and correlations using Matplotlib."
   ]
  },
  {
   "cell_type": "code",
   "execution_count": null,
   "id": "d9daa5e5",
   "metadata": {},
   "outputs": [],
   "source": []
  }
 ],
 "metadata": {
  "kernelspec": {
   "display_name": "Python 3 (ipykernel)",
   "language": "python",
   "name": "python3"
  },
  "language_info": {
   "codemirror_mode": {
    "name": "ipython",
    "version": 3
   },
   "file_extension": ".py",
   "mimetype": "text/x-python",
   "name": "python",
   "nbconvert_exporter": "python",
   "pygments_lexer": "ipython3",
   "version": "3.9.12"
  }
 },
 "nbformat": 4,
 "nbformat_minor": 5
}
